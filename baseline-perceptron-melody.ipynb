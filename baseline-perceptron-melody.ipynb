{
 "cells": [
  {
   "cell_type": "markdown",
   "metadata": {},
   "source": [
    "# Baseline melody perceptron experiments\n",
    "\n",
    "Experiments with very simple model, exploring the effect of voicing on training results"
   ]
  },
  {
   "cell_type": "markdown",
   "metadata": {},
   "source": [
    "## Training"
   ]
  },
  {
   "cell_type": "code",
   "execution_count": 1,
   "metadata": {},
   "outputs": [],
   "source": [
    "# for automatic reloading of my libraries\n",
    "%load_ext autoreload\n",
    "%autoreload 2"
   ]
  },
  {
   "cell_type": "code",
   "execution_count": 2,
   "metadata": {},
   "outputs": [],
   "source": [
    "import tensorflow as tf\n",
    "import numpy as np\n",
    "\n",
    "import datasets\n",
    "from model import NetworkMelody\n",
    "\n",
    "import common"
   ]
  },
  {
   "cell_type": "code",
   "execution_count": 3,
   "metadata": {
    "scrolled": true
   },
   "outputs": [
    {
     "name": "stdout",
     "output_type": "stream",
     "text": [
      "....................\n",
      "....................\n",
      "....................\n",
      ".......\n",
      "...............\n"
     ]
    }
   ],
   "source": [
    "train_data, test_data, small_test_data = common.prepare_medley()"
   ]
  },
  {
   "cell_type": "code",
   "execution_count": 4,
   "metadata": {},
   "outputs": [],
   "source": [
    "def create_model(self, args):\n",
    "    # Get the melody annotation\n",
    "    annotations = self.annotations[:, :, 0]\n",
    "    \n",
    "    audio_net = tf.layers.dense(self.window, 1024, activation=tf.nn.relu)\n",
    "    output_layer = tf.layers.dense(audio_net, self.note_range, activation=None)\n",
    "\n",
    "    self.note_probabilites = tf.reshape(output_layer, [-1, self.annotations_per_window, self.note_range])\n",
    "    self.est_notes = tf.argmax(self.note_probabilites, axis=2)\n",
    "    \n",
    "    self.loss = tf.losses.sparse_softmax_cross_entropy(annotations, self.note_probabilites)\n",
    "    \n",
    "    global_step = tf.train.create_global_step()\n",
    "    self.training = tf.train.AdamOptimizer().minimize(self.loss, global_step=global_step)\n",
    "\n",
    "    print(\"total parameter count:\", np.sum([np.prod(v.get_shape().as_list()) for v in tf.trainable_variables()]))"
   ]
  },
  {
   "cell_type": "code",
   "execution_count": 5,
   "metadata": {},
   "outputs": [
    {
     "name": "stdout",
     "output_type": "stream",
     "text": [
      "-01-21_170906-bs32-apw1-fw93-ctx944-nr128-sr16000\n",
      "total parameter count: 2160768\n"
     ]
    }
   ],
   "source": [
    "args = {\n",
    "    \"threads\": 6,\n",
    "    \"batch_size\": 32,\n",
    "    \"annotations_per_window\": 1,\n",
    "    \"frame_width\": round(256/(44100/16000)), # frame_width of MedleyDB resampled to 16000 Hz\n",
    "    \"context_width\": 944,\n",
    "    \"note_range\": 128,\n",
    "    \"samplerate\": 16000\n",
    "}\n",
    "\n",
    "name = common.name(args)\n",
    "print(name)\n",
    "\n",
    "# To restore model from a checkpoint\n",
    "# args[\"logdir\"] = \"...\"\n",
    "\n",
    "# Construct the network\n",
    "network = NetworkMelody(threads=args[\"threads\"])\n",
    "\n",
    "with network.session.graph.as_default():\n",
    "    sess = network.session\n",
    "    \n",
    "    preload_hook = lambda aa: aa.audio.load_resampled_audio(args[\"samplerate\"])\n",
    "    dataset_transform = lambda dataset: dataset.batch(128).prefetch(1)\n",
    "    dataset_transform_train = lambda dataset: dataset.shuffle(100000).batch(args[\"batch_size\"]).prefetch(1)\n",
    "    \n",
    "    train_dataset = datasets.AADataset(train_data, args, preload_hook, dataset_transform_train)\n",
    "    test_dataset = datasets.AADataset(test_data, args, preload_hook, dataset_transform)\n",
    "    small_test_dataset = datasets.AADataset(small_test_data, args, preload_hook, dataset_transform)\n",
    "\n",
    "    network.construct(args, create_model, test_dataset.dataset.output_types, test_dataset.dataset.output_shapes, dataset_preload_hook=preload_hook, dataset_transform=dataset_transform)"
   ]
  },
  {
   "cell_type": "code",
   "execution_count": 6,
   "metadata": {
    "scrolled": true
   },
   "outputs": [
    {
     "name": "stdout",
     "output_type": "stream",
     "text": [
      "=== epoch 1 ===\n",
      ".....b 1000; t 27.91; acc 1.00; loss 2.09\n"
     ]
    },
    {
     "name": "stderr",
     "output_type": "stream",
     "text": [
      "/home/jirka/.local/lib/python3.7/site-packages/mir_eval/melody.py:231: UserWarning: Non-uniform timescale passed to resample_melody_series.  Pitch will be linearly interpolated, which will result in undesirable behavior if silences are indicated by missing values.  Silences should be indicated by nonpositive frequency values.\n",
      "  \"Non-uniform timescale passed to resample_melody_series.  Pitch \"\n",
      "/home/jirka/.local/lib/python3.7/site-packages/mir_eval/melody.py:79: UserWarning: Estimated melody has no voiced frames.\n",
      "  warnings.warn(\"Estimated melody has no voiced frames.\")\n"
     ]
    },
    {
     "name": "stdout",
     "output_type": "stream",
     "text": [
      "small_validation: t 0.53, OA: 0.22, RPA: 0.05, VR: 0.31\n",
      ".....b 2000; t 14.22; acc 1.00; loss 1.73\n",
      "small_validation: t 0.49, OA: 0.20, RPA: 0.02, VR: 0.38\n",
      ".....b 3000; t 14.29; acc 1.00; loss 1.71\n",
      "small_validation: t 0.49, OA: 0.20, RPA: 0.01, VR: 0.37\n",
      ".....b 4000; t 14.28; acc 1.00; loss 1.94\n",
      "small_validation: t 0.49, OA: 0.19, RPA: 0.01, VR: 0.45\n",
      ".....b 5000; t 14.37; acc 1.00; loss 1.90\n",
      "small_validation: t 0.49, OA: 0.20, RPA: 0.00, VR: 0.40\n",
      ".....b 6000; t 14.25; acc 1.00; loss 1.64\n",
      "small_validation: t 0.48, OA: 0.24, RPA: 0.00, VR: 0.26\n",
      ".....b 7000; t 13.86; acc 1.00; loss 0.85\n",
      "small_validation: t 0.51, OA: 0.24, RPA: 0.00, VR: 0.26\n",
      ".....b 8000; t 13.34; acc 1.00; loss 1.91\n",
      "small_validation: t 0.52, OA: 0.25, RPA: 0.00, VR: 0.21\n",
      ".....b 9000; t 13.37; acc 1.00; loss 1.75\n",
      "small_validation: t 0.84, OA: 0.25, RPA: 0.01, VR: 0.27\n",
      ".....b 10000; t 13.60; acc 1.00; loss 2.52\n",
      "small_validation: t 0.58, OA: 0.26, RPA: 0.00, VR: 0.21\n",
      "validation: t 83.48, OA: 0.44, RPA: 0.23, VR: 0.55\n",
      ".....b 11000; t 15.44; acc 1.00; loss 1.61\n",
      "small_validation: t 0.55, OA: 0.22, RPA: 0.00, VR: 0.32\n",
      ".....b 12000; t 15.32; acc 1.00; loss 2.52\n",
      "small_validation: t 0.53, OA: 0.20, RPA: 0.00, VR: 0.40\n",
      ".....b 13000; t 15.33; acc 1.00; loss 1.59\n",
      "small_validation: t 0.53, OA: 0.18, RPA: 0.00, VR: 0.47\n",
      ".....b 14000; t 15.16; acc 1.00; loss 1.80\n",
      "small_validation: t 0.54, OA: 0.19, RPA: 0.00, VR: 0.41\n",
      ".....b 15000; t 15.32; acc 1.00; loss 1.65\n",
      "small_validation: t 0.57, OA: 0.19, RPA: 0.00, VR: 0.32\n",
      ".....b 16000; t 15.31; acc 1.00; loss 1.75\n",
      "small_validation: t 0.57, OA: 0.20, RPA: 0.00, VR: 0.32\n",
      ".....b 17000; t 14.48; acc 1.00; loss 1.44\n",
      "small_validation: t 0.57, OA: 0.21, RPA: 0.00, VR: 0.32\n",
      ".validation: t 85.43, OA: 0.48, RPA: 0.24, VR: 0.46\n",
      ".....b 21000; t 14.30; acc 1.00; loss 2.04\n",
      "small_validation: t 0.57, OA: 0.26, RPA: 0.00, VR: 0.13\n",
      ".....b 22000; t 14.83; acc 1.00; loss 1.88\n",
      "small_validation: t 0.52, OA: 0.25, RPA: 0.00, VR: 0.10\n",
      ".....b 23000; t 15.38; acc 1.00; loss 1.53\n",
      "small_validation: t 0.55, OA: 0.28, RPA: 0.00, VR: 0.06\n",
      ".....b 24000; t 15.35; acc 1.00; loss 2.03\n",
      "small_validation: t 0.52, OA: 0.28, RPA: 0.00, VR: 0.06\n",
      ".....b 25000; t 15.26; acc 1.00; loss 1.95\n",
      "small_validation: t 0.55, OA: 0.28, RPA: 0.00, VR: 0.05\n",
      ".....b 26000; t 15.33; acc 1.00; loss 1.92\n",
      "small_validation: t 0.52, OA: 0.28, RPA: 0.01, VR: 0.06\n",
      ".....b 27000; t 15.34; acc 1.00; loss 1.60\n",
      "small_validation: t 0.53, OA: 0.27, RPA: 0.00, VR: 0.13\n",
      ".....b 28000; t 14.41; acc 1.00; loss 1.54\n",
      "small_validation: t 0.59, OA: 0.27, RPA: 0.00, VR: 0.13\n",
      ".....b 29000; t 14.43; acc 1.00; loss 1.47\n",
      "small_validation: t 0.56, OA: 0.27, RPA: 0.00, VR: 0.12\n",
      ".....b 30000; t 14.42; acc 1.00; loss 1.52\n",
      "small_validation: t 0.56, OA: 0.27, RPA: 0.01, VR: 0.13\n",
      "validation: t 82.65, OA: 0.52, RPA: 0.31, VR: 0.51\n",
      ".....b 31000; t 14.44; acc 1.00; loss 1.36\n",
      "small_validation: t 0.57, OA: 0.27, RPA: 0.00, VR: 0.15\n",
      ".....b 32000; t 14.46; acc 1.00; loss 1.25\n",
      "small_validation: t 0.60, OA: 0.27, RPA: 0.00, VR: 0.14\n",
      ".....b 33000; t 14.41; acc 1.00; loss 1.49\n",
      "small_validation: t 0.58, OA: 0.27, RPA: 0.00, VR: 0.13\n",
      ".....b 34000; t 14.40; acc 1.00; loss 1.45\n",
      "small_validation: t 0.58, OA: 0.27, RPA: 0.00, VR: 0.11\n",
      ".....b 35000; t 14.45; acc 1.00; loss 2.30\n",
      "small_validation: t 0.60, OA: 0.27, RPA: 0.00, VR: 0.12\n",
      ".....b 36000; t 14.28; acc 1.00; loss 1.63\n",
      "small_validation: t 0.55, OA: 0.27, RPA: 0.00, VR: 0.11\n",
      ".....b 37000; t 15.35; acc 1.00; loss 1.23\n",
      "small_validation: t 0.54, OA: 0.28, RPA: 0.00, VR: 0.08\n",
      ".....b 38000; t 15.36; acc 1.00; loss 2.59\n",
      "small_validation: t 0.54, OA: 0.27, RPA: 0.00, VR: 0.09\n",
      ".....b 39000; t 15.44; acc 1.00; loss 1.53\n",
      "small_validation: t 0.54, OA: 0.27, RPA: 0.00, VR: 0.08\n",
      ".....b 40000; t 14.61; acc 1.00; loss 1.55\n",
      "small_validation: t 0.59, OA: 0.27, RPA: 0.00, VR: 0.10\n",
      "validation: t 86.24, OA: 0.52, RPA: 0.27, VR: 0.46\n",
      ".....b 41000; t 15.31; acc 1.00; loss 1.53\n",
      "small_validation: t 0.60, OA: 0.27, RPA: 0.00, VR: 0.10\n",
      ".....b 42000; t 15.50; acc 1.00; loss 1.30\n",
      "small_validation: t 0.57, OA: 0.24, RPA: 0.00, VR: 0.15\n",
      ".....b 43000; t 15.40; acc 1.00; loss 1.33\n",
      "small_validation: t 0.56, OA: 0.26, RPA: 0.00, VR: 0.12\n",
      ".....b 44000; t 15.45; acc 1.00; loss 1.27\n",
      "small_validation: t 0.59, OA: 0.23, RPA: 0.00, VR: 0.16\n",
      ".....b 45000; t 14.61; acc 1.00; loss 1.27\n",
      "small_validation: t 0.63, OA: 0.23, RPA: 0.00, VR: 0.17\n",
      ".....b 46000; t 14.66; acc 1.00; loss 1.03\n",
      "small_validation: t 0.59, OA: 0.25, RPA: 0.00, VR: 0.12\n",
      ".....b 47000; t 14.60; acc 1.00; loss 0.97\n",
      "small_validation: t 0.63, OA: 0.22, RPA: 0.00, VR: 0.21\n",
      ".....b 48000; t 14.42; acc 1.00; loss 1.79\n",
      "small_validation: t 0.60, OA: 0.24, RPA: 0.00, VR: 0.15\n",
      ".....b 49000; t 14.38; acc 1.00; loss 1.90\n",
      "small_validation: t 0.58, OA: 0.26, RPA: 0.00, VR: 0.08\n",
      ".....b 50000; t 14.50; acc 1.00; loss 1.20\n",
      "small_validation: t 0.57, OA: 0.26, RPA: 0.00, VR: 0.08\n",
      "validation: t 84.67, OA: 0.51, RPA: 0.22, VR: 0.42\n",
      ".....b 51000; t 14.62; acc 1.00; loss 1.58\n",
      "small_validation: t 0.55, OA: 0.25, RPA: 0.03, VR: 0.18\n",
      ".....b 52000; t 15.16; acc 1.00; loss 1.62\n",
      "small_validation: t 0.54, OA: 0.21, RPA: 0.02, VR: 0.30\n",
      ".....b 53000; t 15.45; acc 1.00; loss 1.00\n",
      "small_validation: t 0.54, OA: 0.20, RPA: 0.00, VR: 0.32\n",
      ".....b 54000; t 15.43; acc 1.00; loss 1.09\n",
      "small_validation: t 0.54, OA: 0.20, RPA: 0.00, VR: 0.28\n",
      ".....b 55000; t 15.46; acc 1.00; loss 1.81\n",
      "small_validation: t 0.56, OA: 0.21, RPA: 0.01, VR: 0.29\n",
      ".....b 56000; t 15.27; acc 1.00; loss 1.03\n",
      "small_validation: t 0.52, OA: 0.22, RPA: 0.01, VR: 0.20\n",
      ".....b 57000; t 15.27; acc 1.00; loss 1.86\n",
      "small_validation: t 0.54, OA: 0.24, RPA: 0.02, VR: 0.19\n",
      ".....b 58000; t 14.95; acc 1.00; loss 1.08\n",
      "small_validation: t 0.55, OA: 0.24, RPA: 0.01, VR: 0.16\n",
      ".....b 59000; t 14.79; acc 1.00; loss 1.66\n",
      "small_validation: t 0.57, OA: 0.23, RPA: 0.01, VR: 0.20\n",
      ".=== done ===\n"
     ]
    }
   ],
   "source": [
    "epochs = 1\n",
    "network.train(train_dataset, test_dataset, small_test_dataset, epochs, eval_small_every_n_batches=1000, eval_every_n_batches=10000, save_every_n_batches=60000)"
   ]
  },
  {
   "cell_type": "code",
   "execution_count": 8,
   "metadata": {},
   "outputs": [
    {
     "name": "stdout",
     "output_type": "stream",
     "text": [
      "Model saved in path: models/perceptron-01-20_185610-bs32-apw1-fw93-ctx944-nr128-sr16000/model.ckpt\n"
     ]
    }
   ],
   "source": [
    "network.save()"
   ]
  },
  {
   "cell_type": "markdown",
   "metadata": {},
   "source": [
    "## Evaluation"
   ]
  },
  {
   "cell_type": "code",
   "execution_count": 10,
   "metadata": {
    "scrolled": false
   },
   "outputs": [
    {
     "name": "stdout",
     "output_type": "stream",
     "text": [
      "\n",
      "Small testing dataset metrics:\n",
      "Voicing Recall         0.113653\n",
      "Voicing False Alarm    0.118425\n",
      "Raw Pitch Accuracy     0.004160\n",
      "Raw Chroma Accuracy    0.036990\n",
      "Overall Accuracy       0.161792\n",
      "dtype: float64\n"
     ]
    },
    {
     "data": {
      "image/png": "[encoded data removed]",
      "text/plain": [
       "<Figure size 864x432 with 1 Axes>"
      ]
     },
     "metadata": {
      "needs_background": "light"
     },
     "output_type": "display_data"
    }
   ],
   "source": [
    "print(\"\\nSmall testing dataset metrics:\")\n",
    "acc = network.evaluate(small_test_dataset, visual_output=True, print_detailed=True)"
   ]
  },
  {
   "cell_type": "code",
   "execution_count": 7,
   "metadata": {},
   "outputs": [
    {
     "name": "stdout",
     "output_type": "stream",
     "text": [
      "ORCHSET evaluation\n",
      "....................\n",
      "....................\n",
      "....................\n",
      "....\n",
      "Voicing Recall         0.199410\n",
      "Voicing False Alarm    0.116450\n",
      "Raw Pitch Accuracy     0.059273\n",
      "Raw Chroma Accuracy    0.186437\n",
      "Overall Accuracy       0.112847\n",
      "dtype: float64\n"
     ]
    },
    {
     "data": {
      "text/plain": [
       "(0.11284666894377601, 0.05927312329344167, 0.19941044893443394)"
      ]
     },
     "execution_count": 7,
     "metadata": {},
     "output_type": "execute_result"
    }
   ],
   "source": [
    "# Orchset evaluation\n",
    "print(\"ORCHSET evaluation\")\n",
    "test_data_orchset = datasets.orchset.dataset(\"data/Orchset/\")\n",
    "orchset_dataset = datasets.AADataset(test_data_orchset, args, preload_hook, dataset_transform)\n",
    "network.evaluate(orchset_dataset, print_detailed=True)\n",
    "\n",
    "#print(\"ADC04 evaluation\")\n",
    "#test_data_adc04 = datasets.adc2004.dataset(\"datasets/adc2004/\")\n",
    "#datasets.load_all(test_data_adc04, 16000)\n",
    "#adc04_dataset = datasets.AADataset(test_data_adc04, annotations_per_window, context_width, shuffle_batches=False)\n",
    "#acc = network.evaluate(adc04_dataset, args[\"batch_size\"], print_detailed=True)"
   ]
  },
  {
   "cell_type": "code",
   "execution_count": null,
   "metadata": {},
   "outputs": [],
   "source": [
    "import evaluation\n",
    "evaluation.evaluate_model(network, \"evaluation_test10\")"
   ]
  },
  {
   "cell_type": "code",
   "execution_count": null,
   "metadata": {},
   "outputs": [],
   "source": [
    "import visualization as vis\n",
    "# play the small testing dataset\n",
    "vis.samplesplayer(small_test_dataset.all_samples(), small_test_dataset.samplerate)"
   ]
  }
 ],
 "metadata": {
  "kernelspec": {
   "display_name": "Python 3",
   "language": "python",
   "name": "python3"
  },
  "language_info": {
   "codemirror_mode": {
    "name": "ipython",
    "version": 3
   },
   "file_extension": ".py",
   "mimetype": "text/x-python",
   "name": "python",
   "nbconvert_exporter": "python",
   "pygments_lexer": "ipython3",
   "version": "3.7.2"
  }
 },
 "nbformat": 4,
 "nbformat_minor": 2
}
