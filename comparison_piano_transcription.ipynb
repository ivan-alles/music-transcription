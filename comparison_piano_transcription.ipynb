{
 "cells": [
  {
   "cell_type": "code",
   "execution_count": 41,
   "metadata": {},
   "outputs": [
    {
     "name": "stdout",
     "output_type": "stream",
     "text": [
      "The autoreload extension is already loaded. To reload it, use:\n",
      "  %reload_ext autoreload\n"
     ]
    }
   ],
   "source": [
    "%load_ext autoreload\n",
    "%autoreload 2\n",
    "\n",
    "from glob import glob\n",
    "import pandas as pd\n",
    "import os\n",
    "import mir_eval\n",
    "from common_jupyter import *\n",
    "import datasets\n",
    "\n",
    "import matplotlib.pyplot as plt\n",
    "import seaborn as sns\n",
    "\n",
    "experiments_dir = \"./models-kelz/\"\n",
    "class args:\n",
    "    samplerate = 44100\n",
    "    hop_length = 441 * 4  # 25 fps\n",
    "    frame_width = hop_length\n",
    "\n",
    "def get_results(paths, attributes, attr_names):\n",
    "    dataset = \"maps\"\n",
    "\n",
    "    results = []\n",
    "    for path, attrs in zip(paths, attributes):\n",
    "        est_paths = glob(os.path.join(path, dataset+\"*\", \"*.csv\"))\n",
    "        ref_paths = glob(os.path.join(path, dataset+\"*\", \"reference\", \"*.csv\"))\n",
    "\n",
    "        attrs_dict = dict(zip(attr_names, attrs))\n",
    "\n",
    "        for ref_path, est_path in zip(ref_paths, est_paths):\n",
    "            ref_time, ref_freq = mir_eval.io.load_ragged_time_series(ref_path, delimiter=\",\")\n",
    "            est_time, est_freq = mir_eval.io.load_ragged_time_series(est_path, delimiter=\",\")\n",
    "            scores = mir_eval.multipitch.evaluate(ref_time, ref_freq, est_time, est_freq)\n",
    "\n",
    "            result = {**scores, **attrs_dict, \"Path\": path, \"Est_path\": est_path}\n",
    "            if \"parameters\" not in result:\n",
    "                parameters = get_param_num(path)\n",
    "                result[\"parameters\"] = parameters\n",
    "\n",
    "            print(\".\", end=\"\")\n",
    "            results.append(result)\n",
    "    return pd.DataFrame(results)"
   ]
  },
  {
   "cell_type": "code",
   "execution_count": 42,
   "metadata": {},
   "outputs": [],
   "source": [
    "attr_names = [\"hconv_input\", \"hconv_inside\", \"parameters\"]\n",
    "attr_types = [str, str, int]\n",
    "regex = \"kelz-aallconv-f\\d+(-sus0-sos4|)(-us1-os3|)-p(\\d+)\"\n",
    "experiments_paths = get_paths(experiments_dir, results_dir=\"model-mf0-outputs\")\n",
    "paths = list(filter(lambda x: re.search(regex, x), experiments_paths))\n",
    "attributes = get_attrs_from_paths(regex, attr_types, paths)"
   ]
  },
  {
   "cell_type": "code",
   "execution_count": 43,
   "metadata": {},
   "outputs": [
    {
     "data": {
      "text/plain": [
       "['./models-kelz/0501_160307-kelz-aallconv-f4-p5940/model-mf0-outputs',\n",
       " './models-kelz/0501_182506-kelz-aallconv-f8-p20184/model-mf0-outputs',\n",
       " './models-kelz/0501_202914-kelz-aallconv-f12-p42908/model-mf0-outputs',\n",
       " './models-kelz/0501_223252-kelz-aallconv-f16-p74112/model-mf0-outputs',\n",
       " './models-kelz/0502_003607-kelz-aallconv-f20-p113796/model-mf0-outputs',\n",
       " './models-kelz/0502_024019-kelz-aallconv-f24-p161960/model-mf0-outputs',\n",
       " './models-kelz/0502_132221-kelz-aallconv-f28-p218604/model-mf0-outputs',\n",
       " './models-kelz/0502_211810-kelz-aallconv-f4-sus0-sos4-p6048/model-mf0-outputs',\n",
       " './models-kelz/0502_215903-kelz-aallconv-f4-sus0-sos4-us1-os3-p9168/model-mf0-outputs',\n",
       " './models-kelz/0502_224032-kelz-aallconv-f8-sus0-sos4-p20400/model-mf0-outputs',\n",
       " './models-kelz/0502_232126-kelz-aallconv-f8-sus0-sos4-us1-os3-p32880/model-mf0-outputs',\n",
       " './models-kelz/0503_000322-kelz-aallconv-f12-sus0-sos4-p43232/model-mf0-outputs',\n",
       " './models-kelz/0503_004442-kelz-aallconv-f12-sus0-sos4-us1-os3-p71312/model-mf0-outputs',\n",
       " './models-kelz/0503_012622-kelz-aallconv-f16-sus0-sos4-p74544/model-mf0-outputs',\n",
       " './models-kelz/0503_020816-kelz-aallconv-f16-sus0-sos4-us1-os3-p124464/model-mf0-outputs',\n",
       " './models-kelz/0503_024948-kelz-aallconv-f20-sus0-sos4-p114336/model-mf0-outputs',\n",
       " './models-kelz/0503_033123-kelz-aallconv-f20-sus0-sos4-us1-os3-p192336/model-mf0-outputs',\n",
       " './models-kelz/0503_041321-kelz-aallconv-f24-sus0-sos4-p162608/model-mf0-outputs',\n",
       " './models-kelz/0503_045434-kelz-aallconv-f24-sus0-sos4-us1-os3-p274928/model-mf0-outputs',\n",
       " './models-kelz/0503_053616-kelz-aallconv-f28-sus0-sos4-p219360/model-mf0-outputs',\n",
       " './models-kelz/0503_061709-kelz-aallconv-f28-sus0-sos4-us1-os3-p372240/model-mf0-outputs',\n",
       " './models-kelz/0507_200304-kelz-aallconv-f32-sus0-sos4-p284592/model-mf0-outputs',\n",
       " './models-kelz/0507_204300-kelz-aallconv-f36-p357332/model-mf0-outputs',\n",
       " './models-kelz/0507_212309-kelz-aallconv-f36-sus0-sos4-p358304/model-mf0-outputs',\n",
       " './models-kelz/0507_220305-kelz-aallconv-f40-p439416/model-mf0-outputs',\n",
       " './models-kelz/0507_224312-kelz-aallconv-f40-sus0-sos4-p440496/model-mf0-outputs',\n",
       " './models-kelz/0514_083445-kelz-aallconv-f32-p283728/model-mf0-outputs']"
      ]
     },
     "execution_count": 43,
     "metadata": {},
     "output_type": "execute_result"
    }
   ],
   "source": [
    "paths"
   ]
  },
  {
   "cell_type": "code",
   "execution_count": 38,
   "metadata": {},
   "outputs": [
    {
     "name": "stdout",
     "output_type": "stream",
     "text": [
      "...................................................................................................................................................................................................................................................................................................................................................................................................................................................................................................................................................................................................................................................................................................................................................................................................................................................................................................................................................................................................................................................................................................................................................................................................................................................................................................................................................................................................................................................................................................................................................................................................................................................................................."
     ]
    }
   ],
   "source": [
    "all_data = get_results(paths, attributes, attr_names)"
   ]
  },
  {
   "cell_type": "code",
   "execution_count": 44,
   "metadata": {},
   "outputs": [],
   "source": [
    "# save the data for faster loading\n",
    "#all_data.to_pickle(os.path.join(experiments_dir, \"test_scores_all_allconv.pkl\"))\n",
    "all_data = pd.read_pickle(os.path.join(experiments_dir, \"test_scores_all_allconv.pkl\"))"
   ]
  },
  {
   "cell_type": "code",
   "execution_count": 45,
   "metadata": {},
   "outputs": [],
   "source": [
    "#all_data = all_data[all_data.Path != \"./models-kelz/0501_160307-kelz-aallconv-f4-p5940/model-mf0-outputs\"]\n",
    "#all_data = all_data[all_data.Path != './models-kelz/0502_211810-kelz-aallconv-f4-sus0-sos4-p6048/model-mf0-outputs']\n",
    "#all_data = all_data[all_data.Path != './models-kelz/0502_215903-kelz-aallconv-f4-sus0-sos4-us1-os3-p9168/model-mf0-outputs']\n",
    "all_data.hconv_input = all_data.hconv_input.map({\"\":\"no\", \"-sus0-sos4\": \"yes\"})\n",
    "all_data.hconv_inside = all_data.hconv_inside.map({\"\":\"no\", \"-us1-os3\": \"yes\"})\n",
    "all_data[\"F1\"] = all_data.Precision*all_data.Recall*2/(all_data.Precision+all_data.Recall)"
   ]
  },
  {
   "cell_type": "code",
   "execution_count": 46,
   "metadata": {
    "scrolled": true
   },
   "outputs": [],
   "source": [
    "allconv = all_data.groupby(attr_names).mean().reset_index()"
   ]
  },
  {
   "cell_type": "code",
   "execution_count": 47,
   "metadata": {
    "scrolled": false
   },
   "outputs": [
    {
     "name": "stderr",
     "output_type": "stream",
     "text": [
      "/home/jirka/miniconda3/envs/melody/lib/python3.7/site-packages/ipykernel_launcher.py:3: UserWarning: Boolean Series key will be reindexed to match DataFrame index.\n",
      "  This is separate from the ipykernel package so we can avoid doing imports until\n",
      "/home/jirka/miniconda3/envs/melody/lib/python3.7/site-packages/ipykernel_launcher.py:4: UserWarning: Boolean Series key will be reindexed to match DataFrame index.\n",
      "  after removing the cwd from sys.path.\n"
     ]
    },
    {
     "data": {
      "text/html": [
       "<div>\n",
       "<style scoped>\n",
       "    .dataframe tbody tr th:only-of-type {\n",
       "        vertical-align: middle;\n",
       "    }\n",
       "\n",
       "    .dataframe tbody tr th {\n",
       "        vertical-align: top;\n",
       "    }\n",
       "\n",
       "    .dataframe thead th {\n",
       "        text-align: right;\n",
       "    }\n",
       "</style>\n",
       "<table border=\"1\" class=\"dataframe\">\n",
       "  <thead>\n",
       "    <tr style=\"text-align: right;\">\n",
       "      <th></th>\n",
       "      <th>hconv_input</th>\n",
       "      <th>hconv_inside</th>\n",
       "      <th>parameters</th>\n",
       "      <th>Precision</th>\n",
       "      <th>Recall</th>\n",
       "      <th>F1</th>\n",
       "    </tr>\n",
       "  </thead>\n",
       "  <tbody>\n",
       "    <tr>\n",
       "      <th>0</th>\n",
       "      <td>no</td>\n",
       "      <td>no</td>\n",
       "      <td>5940</td>\n",
       "      <td>0.741687</td>\n",
       "      <td>0.374673</td>\n",
       "      <td>0.488901</td>\n",
       "    </tr>\n",
       "    <tr>\n",
       "      <th>10</th>\n",
       "      <td>yes</td>\n",
       "      <td>no</td>\n",
       "      <td>6048</td>\n",
       "      <td>0.729803</td>\n",
       "      <td>0.371261</td>\n",
       "      <td>0.483334</td>\n",
       "    </tr>\n",
       "    <tr>\n",
       "      <th>20</th>\n",
       "      <td>yes</td>\n",
       "      <td>yes</td>\n",
       "      <td>9168</td>\n",
       "      <td>0.714009</td>\n",
       "      <td>0.477340</td>\n",
       "      <td>0.564230</td>\n",
       "    </tr>\n",
       "    <tr>\n",
       "      <th>1</th>\n",
       "      <td>no</td>\n",
       "      <td>no</td>\n",
       "      <td>20184</td>\n",
       "      <td>0.776401</td>\n",
       "      <td>0.514221</td>\n",
       "      <td>0.610020</td>\n",
       "    </tr>\n",
       "    <tr>\n",
       "      <th>11</th>\n",
       "      <td>yes</td>\n",
       "      <td>no</td>\n",
       "      <td>20400</td>\n",
       "      <td>0.770032</td>\n",
       "      <td>0.532552</td>\n",
       "      <td>0.621852</td>\n",
       "    </tr>\n",
       "    <tr>\n",
       "      <th>21</th>\n",
       "      <td>yes</td>\n",
       "      <td>yes</td>\n",
       "      <td>32880</td>\n",
       "      <td>0.757577</td>\n",
       "      <td>0.605952</td>\n",
       "      <td>0.667108</td>\n",
       "    </tr>\n",
       "    <tr>\n",
       "      <th>2</th>\n",
       "      <td>no</td>\n",
       "      <td>no</td>\n",
       "      <td>42908</td>\n",
       "      <td>0.767312</td>\n",
       "      <td>0.592788</td>\n",
       "      <td>0.662198</td>\n",
       "    </tr>\n",
       "    <tr>\n",
       "      <th>12</th>\n",
       "      <td>yes</td>\n",
       "      <td>no</td>\n",
       "      <td>43232</td>\n",
       "      <td>0.788257</td>\n",
       "      <td>0.564656</td>\n",
       "      <td>0.651407</td>\n",
       "    </tr>\n",
       "    <tr>\n",
       "      <th>22</th>\n",
       "      <td>yes</td>\n",
       "      <td>yes</td>\n",
       "      <td>71312</td>\n",
       "      <td>0.769916</td>\n",
       "      <td>0.636906</td>\n",
       "      <td>0.691595</td>\n",
       "    </tr>\n",
       "    <tr>\n",
       "      <th>3</th>\n",
       "      <td>no</td>\n",
       "      <td>no</td>\n",
       "      <td>74112</td>\n",
       "      <td>0.796934</td>\n",
       "      <td>0.583309</td>\n",
       "      <td>0.667255</td>\n",
       "    </tr>\n",
       "    <tr>\n",
       "      <th>13</th>\n",
       "      <td>yes</td>\n",
       "      <td>no</td>\n",
       "      <td>74544</td>\n",
       "      <td>0.782339</td>\n",
       "      <td>0.604192</td>\n",
       "      <td>0.676434</td>\n",
       "    </tr>\n",
       "    <tr>\n",
       "      <th>4</th>\n",
       "      <td>no</td>\n",
       "      <td>no</td>\n",
       "      <td>113796</td>\n",
       "      <td>0.782368</td>\n",
       "      <td>0.630202</td>\n",
       "      <td>0.692658</td>\n",
       "    </tr>\n",
       "    <tr>\n",
       "      <th>14</th>\n",
       "      <td>yes</td>\n",
       "      <td>no</td>\n",
       "      <td>114336</td>\n",
       "      <td>0.781537</td>\n",
       "      <td>0.633742</td>\n",
       "      <td>0.694515</td>\n",
       "    </tr>\n",
       "    <tr>\n",
       "      <th>23</th>\n",
       "      <td>yes</td>\n",
       "      <td>yes</td>\n",
       "      <td>124464</td>\n",
       "      <td>0.778474</td>\n",
       "      <td>0.653850</td>\n",
       "      <td>0.705543</td>\n",
       "    </tr>\n",
       "    <tr>\n",
       "      <th>5</th>\n",
       "      <td>no</td>\n",
       "      <td>no</td>\n",
       "      <td>161960</td>\n",
       "      <td>0.777680</td>\n",
       "      <td>0.643634</td>\n",
       "      <td>0.699051</td>\n",
       "    </tr>\n",
       "    <tr>\n",
       "      <th>15</th>\n",
       "      <td>yes</td>\n",
       "      <td>no</td>\n",
       "      <td>162608</td>\n",
       "      <td>0.781309</td>\n",
       "      <td>0.640409</td>\n",
       "      <td>0.698538</td>\n",
       "    </tr>\n",
       "    <tr>\n",
       "      <th>24</th>\n",
       "      <td>yes</td>\n",
       "      <td>yes</td>\n",
       "      <td>192336</td>\n",
       "      <td>0.782913</td>\n",
       "      <td>0.654788</td>\n",
       "      <td>0.708194</td>\n",
       "    </tr>\n",
       "    <tr>\n",
       "      <th>6</th>\n",
       "      <td>no</td>\n",
       "      <td>no</td>\n",
       "      <td>218604</td>\n",
       "      <td>0.779794</td>\n",
       "      <td>0.647208</td>\n",
       "      <td>0.702561</td>\n",
       "    </tr>\n",
       "    <tr>\n",
       "      <th>16</th>\n",
       "      <td>yes</td>\n",
       "      <td>no</td>\n",
       "      <td>219360</td>\n",
       "      <td>0.784809</td>\n",
       "      <td>0.639191</td>\n",
       "      <td>0.699429</td>\n",
       "    </tr>\n",
       "    <tr>\n",
       "      <th>25</th>\n",
       "      <td>yes</td>\n",
       "      <td>yes</td>\n",
       "      <td>274928</td>\n",
       "      <td>0.781106</td>\n",
       "      <td>0.666085</td>\n",
       "      <td>0.714460</td>\n",
       "    </tr>\n",
       "    <tr>\n",
       "      <th>7</th>\n",
       "      <td>no</td>\n",
       "      <td>no</td>\n",
       "      <td>283728</td>\n",
       "      <td>0.786257</td>\n",
       "      <td>0.643990</td>\n",
       "      <td>0.703536</td>\n",
       "    </tr>\n",
       "    <tr>\n",
       "      <th>17</th>\n",
       "      <td>yes</td>\n",
       "      <td>no</td>\n",
       "      <td>284592</td>\n",
       "      <td>0.793186</td>\n",
       "      <td>0.632604</td>\n",
       "      <td>0.699094</td>\n",
       "    </tr>\n",
       "    <tr>\n",
       "      <th>8</th>\n",
       "      <td>no</td>\n",
       "      <td>no</td>\n",
       "      <td>357332</td>\n",
       "      <td>0.786983</td>\n",
       "      <td>0.647462</td>\n",
       "      <td>0.705651</td>\n",
       "    </tr>\n",
       "    <tr>\n",
       "      <th>18</th>\n",
       "      <td>yes</td>\n",
       "      <td>no</td>\n",
       "      <td>358304</td>\n",
       "      <td>0.789126</td>\n",
       "      <td>0.639715</td>\n",
       "      <td>0.702332</td>\n",
       "    </tr>\n",
       "    <tr>\n",
       "      <th>26</th>\n",
       "      <td>yes</td>\n",
       "      <td>yes</td>\n",
       "      <td>372240</td>\n",
       "      <td>0.787215</td>\n",
       "      <td>0.657780</td>\n",
       "      <td>0.712370</td>\n",
       "    </tr>\n",
       "    <tr>\n",
       "      <th>9</th>\n",
       "      <td>no</td>\n",
       "      <td>no</td>\n",
       "      <td>439416</td>\n",
       "      <td>0.785604</td>\n",
       "      <td>0.643719</td>\n",
       "      <td>0.703053</td>\n",
       "    </tr>\n",
       "    <tr>\n",
       "      <th>19</th>\n",
       "      <td>yes</td>\n",
       "      <td>no</td>\n",
       "      <td>440496</td>\n",
       "      <td>0.789151</td>\n",
       "      <td>0.644161</td>\n",
       "      <td>0.704819</td>\n",
       "    </tr>\n",
       "  </tbody>\n",
       "</table>\n",
       "</div>"
      ],
      "text/plain": [
       "   hconv_input hconv_inside  parameters  Precision    Recall        F1\n",
       "0           no           no        5940   0.741687  0.374673  0.488901\n",
       "10         yes           no        6048   0.729803  0.371261  0.483334\n",
       "20         yes          yes        9168   0.714009  0.477340  0.564230\n",
       "1           no           no       20184   0.776401  0.514221  0.610020\n",
       "11         yes           no       20400   0.770032  0.532552  0.621852\n",
       "21         yes          yes       32880   0.757577  0.605952  0.667108\n",
       "2           no           no       42908   0.767312  0.592788  0.662198\n",
       "12         yes           no       43232   0.788257  0.564656  0.651407\n",
       "22         yes          yes       71312   0.769916  0.636906  0.691595\n",
       "3           no           no       74112   0.796934  0.583309  0.667255\n",
       "13         yes           no       74544   0.782339  0.604192  0.676434\n",
       "4           no           no      113796   0.782368  0.630202  0.692658\n",
       "14         yes           no      114336   0.781537  0.633742  0.694515\n",
       "23         yes          yes      124464   0.778474  0.653850  0.705543\n",
       "5           no           no      161960   0.777680  0.643634  0.699051\n",
       "15         yes           no      162608   0.781309  0.640409  0.698538\n",
       "24         yes          yes      192336   0.782913  0.654788  0.708194\n",
       "6           no           no      218604   0.779794  0.647208  0.702561\n",
       "16         yes           no      219360   0.784809  0.639191  0.699429\n",
       "25         yes          yes      274928   0.781106  0.666085  0.714460\n",
       "7           no           no      283728   0.786257  0.643990  0.703536\n",
       "17         yes           no      284592   0.793186  0.632604  0.699094\n",
       "8           no           no      357332   0.786983  0.647462  0.705651\n",
       "18         yes           no      358304   0.789126  0.639715  0.702332\n",
       "26         yes          yes      372240   0.787215  0.657780  0.712370\n",
       "9           no           no      439416   0.785604  0.643719  0.703053\n",
       "19         yes           no      440496   0.789151  0.644161  0.704819"
      ]
     },
     "execution_count": 47,
     "metadata": {},
     "output_type": "execute_result"
    }
   ],
   "source": [
    "# differernces between similar models\n",
    "zuzeny = allconv.drop(columns=[\"Accuracy\", \"Chroma Accuracy\", \"Chroma False Alarm Error\", \"Chroma False Alarm Error\",\"Chroma Miss Error\",\"Chroma Precision\",\"Chroma Recall\",\"Chroma Substitution Error\",\"Chroma Total Error\",\"False Alarm Error\",\"Miss Error\",\"Substitution Error\", \"Total Error\"]).sort_values(\"parameters\")\n",
    "zuzeny1 = zuzeny[(allconv.hconv_inside==\"yes\")]\n",
    "zuzeny2 = zuzeny[(allconv.hconv_input==\"no\")]\n",
    "# (zuzeny1.reset_index().drop(0).reset_index().F1 - zuzeny2.drop([0,1,4]).reset_index().F1)\n",
    "zuzeny"
   ]
  },
  {
   "cell_type": "code",
   "execution_count": 49,
   "metadata": {
    "scrolled": false
   },
   "outputs": [
    {
     "data": {
      "image/png": "[encoded data removed]",
      "text/plain": [
       "<Figure size 432x432 with 1 Axes>"
      ]
     },
     "metadata": {},
     "output_type": "display_data"
    }
   ],
   "source": [
    "sns.set(rc={'figure.figsize': (6, 6)})\n",
    "sns.set(style=\"whitegrid\")\n",
    "\n",
    "\n",
    "sns.lineplot(x=\"parameters\", y=\"F1\", marker=\"o\", data=allconv[allconv.hconv_inside==\"yes\"], label=\"HConv\")\n",
    "sns.lineplot(x=\"parameters\", y=\"F1\", marker=\"o\", data=allconv[(allconv.hconv_input==\"yes\") & (allconv.hconv_inside==\"no\")], label=\"HConv only input\")\n",
    "sns.lineplot(x=\"parameters\", y=\"F1\", marker=\"o\", data=allconv[allconv.hconv_input==\"no\"], label=\"Without HConv\")\n",
    "\n",
    "# plt.ylim(0.60, 0.725)\n",
    "plt.savefig(\"comparison_piano_allconv.pdf\")"
   ]
  },
  {
   "cell_type": "code",
   "execution_count": 67,
   "metadata": {},
   "outputs": [
    {
     "data": {
      "text/plain": [
       "['./models-kelz/0514_091557-kelz-avggnet-f8/model-mf0-outputs',\n",
       " './models-kelz/0514_101553-kelz-avggnet-f8-sus0-sos4/model-mf0-outputs',\n",
       " './models-kelz/0514_111607-kelz-avggnet-f8-sus0-sos4-us1-os3/model-mf0-outputs',\n",
       " './models-kelz/0514_121710-kelz-avggnet-f32/model-mf0-outputs',\n",
       " './models-kelz/0514_131801-kelz-avggnet-f32-sus0-sos4/model-mf0-outputs',\n",
       " './models-kelz/0514_141844-kelz-avggnet-f31-sus0-sos4-us1-os3/model-mf0-outputs',\n",
       " './models-kelz/0514_153232-kelz-avggnet-f16/model-mf0-outputs',\n",
       " './models-kelz/0514_163248-kelz-avggnet-f16-sus0-sos4/model-mf0-outputs',\n",
       " './models-kelz/0514_173411-kelz-avggnet-f16-sus0-sos4-us1-os3/model-mf0-outputs',\n",
       " './models-kelz/0514_183443-kelz-avggnet-f32-sus0-sos4-us1-os3/model-mf0-outputs',\n",
       " './models-kelz/0514_194955-kelz-avggnet-f24/model-mf0-outputs',\n",
       " './models-kelz/0514_205006-kelz-avggnet-f24-sus0-sos4/model-mf0-outputs',\n",
       " './models-kelz/0514_220736-kelz-avggnet-f30-sus1-sos5-us1-os5/model-mf0-outputs',\n",
       " './models-kelz/0515_095053-kelz-avggnet-f24-sus0-sos4-us1-os3/model-mf0-outputs',\n",
       " './models-kelz/0515_105146-kelz-avggnet-f12/model-mf0-outputs',\n",
       " './models-kelz/0515_115140-kelz-avggnet-f12-sus0-sos4/model-mf0-outputs',\n",
       " './models-kelz/0515_125033-kelz-avggnet-f12-sus0-sos4-us1-os3/model-mf0-outputs',\n",
       " './models-kelz/0515_135021-kelz-avggnet-f20/model-mf0-outputs',\n",
       " './models-kelz/0515_145008-kelz-avggnet-f20-sus0-sos4/model-mf0-outputs',\n",
       " './models-kelz/0515_155020-kelz-avggnet-f20-sus0-sos4-us1-os3/model-mf0-outputs',\n",
       " './models-kelz/0515_165008-kelz-avggnet-f28/model-mf0-outputs',\n",
       " './models-kelz/0515_175050-kelz-avggnet-f28-sus0-sos4/model-mf0-outputs',\n",
       " './models-kelz/0515_185128-kelz-avggnet-f28-sus0-sos4-us1-os3/model-mf0-outputs']"
      ]
     },
     "execution_count": 67,
     "metadata": {},
     "output_type": "execute_result"
    }
   ],
   "source": [
    "attr_names = [\"hconv_input\", \"hconv_inside\", \"parameters\"]\n",
    "attr_types = [str, str, int]\n",
    "regex = \"kelz-avggnet-f\\d+(-sus0-sos4|)(-us1-os3|)\"\n",
    "experiments_paths = get_paths(experiments_dir, results_dir=\"model-mf0-outputs\")\n",
    "paths = list(filter(lambda x: re.search(regex, x), experiments_paths))\n",
    "attributes = get_attrs_from_paths(regex, attr_types, paths)\n",
    "paths"
   ]
  },
  {
   "cell_type": "code",
   "execution_count": 68,
   "metadata": {},
   "outputs": [
    {
     "name": "stdout",
     "output_type": "stream",
     "text": [
      "...................................................................................................................................................................................................................................................................................................................................................................................................................................................................................................................................................................................................................................................................................................................................................................................................................................................................................................................................................................................................................................................................................................................................................................................................................................................................................................................................................................................................................................."
     ]
    }
   ],
   "source": [
    "all_data = get_results(paths, attributes, attr_names)"
   ]
  },
  {
   "cell_type": "code",
   "execution_count": 69,
   "metadata": {},
   "outputs": [
    {
     "data": {
      "text/plain": [
       "(23, 23)"
      ]
     },
     "execution_count": 69,
     "metadata": {},
     "output_type": "execute_result"
    }
   ],
   "source": [
    "len(all_data.Path.unique()), len(paths)"
   ]
  },
  {
   "cell_type": "code",
   "execution_count": 79,
   "metadata": {},
   "outputs": [],
   "source": [
    "#all_data.to_pickle(os.path.join(experiments_dir, \"test_scores_all_vggnet_fixed.pkl\"))\n",
    "all_data = pd.read_pickle(os.path.join(experiments_dir, \"test_scores_all_vggnet_fixed.pkl\"))"
   ]
  },
  {
   "cell_type": "code",
   "execution_count": 80,
   "metadata": {},
   "outputs": [],
   "source": [
    "all_data = all_data[all_data.Path != \"./models-kelz/0514_220736-kelz-avggnet-f30-sus1-sos5-us1-os5/model-mf0-outputs\"]\n",
    "all_data = all_data[all_data.Path != \"./models-kelz/0514_141844-kelz-avggnet-f31-sus0-sos4-us1-os3/model-mf0-outputs\"]\n",
    "\n",
    "all_data.hconv_input = all_data.hconv_input.map({\"\":\"no\", \"-sus0-sos4\": \"yes\"})\n",
    "all_data.hconv_inside = all_data.hconv_inside.map({\"\":\"no\", \"-us1-os3\": \"yes\"})\n",
    "all_data[\"F1\"] = all_data.Precision*all_data.Recall*2/(all_data.Precision+all_data.Recall)\n",
    "convnet = all_data.groupby(attr_names).mean().reset_index()"
   ]
  },
  {
   "cell_type": "code",
   "execution_count": 81,
   "metadata": {},
   "outputs": [
    {
     "data": {
      "image/png": "[encoded data removed]",
      "text/plain": [
       "<Figure size 432x432 with 1 Axes>"
      ]
     },
     "metadata": {},
     "output_type": "display_data"
    }
   ],
   "source": [
    "sns.set(rc={'figure.figsize': (6, 6)})\n",
    "sns.set(style=\"whitegrid\")\n",
    "\n",
    "\n",
    "sns.lineplot(x=\"parameters\", y=\"F1\", marker=\"o\", data=convnet[convnet.hconv_inside==\"yes\"], label=\"HConv\")\n",
    "sns.lineplot(x=\"parameters\", y=\"F1\", marker=\"o\", data=convnet[(convnet.hconv_input==\"yes\") & (convnet.hconv_inside==\"no\")], label=\"HConv only input\")\n",
    "sns.lineplot(x=\"parameters\", y=\"F1\", marker=\"o\", data=convnet[convnet.hconv_input==\"no\"], label=\"Without HConv\")\n",
    "\n",
    "#plt.ylim(0.64, 0.72)\n",
    "plt.savefig(\"comparison_piano_convnet.pdf\")"
   ]
  },
  {
   "cell_type": "code",
   "execution_count": 84,
   "metadata": {},
   "outputs": [
    {
     "data": {
      "image/png": "[encoded data removed]",
      "text/plain": [
       "<Figure size 576x288 with 2 Axes>"
      ]
     },
     "metadata": {},
     "output_type": "display_data"
    }
   ],
   "source": [
    "sns.set(rc={'figure.figsize': (8, 4)})\n",
    "sns.set(style=\"whitegrid\")\n",
    "fig, axs = plt.subplots(1,2, sharey=True)\n",
    "\n",
    "sns.lineplot(ax=axs[0], x=\"parameters\", y=\"F1\", marker=\"o\", data=convnet[convnet.hconv_inside==\"yes\"], label=\"HConv\")\n",
    "sns.lineplot(ax=axs[0], x=\"parameters\", y=\"F1\", marker=\"o\", data=convnet[(convnet.hconv_input==\"yes\") & (convnet.hconv_inside==\"no\")], label=\"HConv only input\")\n",
    "ax = sns.lineplot(ax=axs[0], x=\"parameters\", y=\"F1\", marker=\"o\", data=convnet[convnet.hconv_input==\"no\"], label=\"Without HConv\")\n",
    "ax.get_legend().set_visible(False)\n",
    "ax.set_title(\"WithFC\")\n",
    "\n",
    "sns.lineplot(ax=axs[1], x=\"parameters\", y=\"F1\", marker=\"o\", data=allconv[allconv.hconv_inside==\"yes\"], label=\"HConv\")\n",
    "sns.lineplot(ax=axs[1], x=\"parameters\", y=\"F1\", marker=\"o\", data=allconv[(allconv.hconv_input==\"yes\") & (allconv.hconv_inside==\"no\")], label=\"HConv only input\")\n",
    "ax = sns.lineplot(ax=axs[1], x=\"parameters\", y=\"F1\", marker=\"o\", data=allconv[allconv.hconv_input==\"no\"], label=\"Without HConv\")\n",
    "ax.set_title(\"AllConv\")\n",
    "\n",
    "plt.tight_layout()\n",
    "\n",
    "plt.ylim(0.64, 0.725)\n",
    "\n",
    "plt.savefig(\"comparison_piano.pdf\")"
   ]
  },
  {
   "cell_type": "code",
   "execution_count": null,
   "metadata": {},
   "outputs": [],
   "source": []
  },
  {
   "cell_type": "code",
   "execution_count": null,
   "metadata": {},
   "outputs": [],
   "source": []
  }
 ],
 "metadata": {
  "kernelspec": {
   "display_name": "Python 3",
   "language": "python",
   "name": "python3"
  },
  "language_info": {
   "codemirror_mode": {
    "name": "ipython",
    "version": 3
   },
   "file_extension": ".py",
   "mimetype": "text/x-python",
   "name": "python",
   "nbconvert_exporter": "python",
   "pygments_lexer": "ipython3",
   "version": "3.7.5"
  }
 },
 "nbformat": 4,
 "nbformat_minor": 2
}
