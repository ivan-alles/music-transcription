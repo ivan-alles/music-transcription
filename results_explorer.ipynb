{
 "cells": [
  {
   "cell_type": "code",
   "execution_count": null,
   "metadata": {},
   "outputs": [],
   "source": [
    "%load_ext autoreload\n",
    "%autoreload 2\n",
    "\n",
    "import evaluation\n",
    "import pandas\n",
    "import os\n",
    "import visualization as vis\n",
    "import mir_eval\n",
    "\n",
    "%matplotlib notebook"
   ]
  },
  {
   "cell_type": "code",
   "execution_count": null,
   "metadata": {
    "scrolled": false
   },
   "outputs": [],
   "source": [
    "results_path = \"models/0226_142040-crepe-dmdb-bs32-apw1-fw93-cw978-s16000-inTrue-lr0.0002-cm8-cg0.0-llw0.0-mc5-bps5-asTrue/model-best-mdb-f0-outputs/\"\n",
    "evaluation.summary(\"test\", results_path, \".csv\")"
   ]
  },
  {
   "cell_type": "code",
   "execution_count": null,
   "metadata": {},
   "outputs": [],
   "source": [
    "results = evaluation.results(\"test\", results_path, \".csv\")"
   ]
  },
  {
   "cell_type": "code",
   "execution_count": null,
   "metadata": {
    "scrolled": false
   },
   "outputs": [],
   "source": [
    "df = pandas.DataFrame(results[\"ORCHSET\"])\n",
    "# df[\"RPA RCA diff\"] = df[\"Raw Chroma Accuracy\"] - df[\"Raw Pitch Accuracy\"]\n",
    "df.sort_values(\"Raw Chroma Accuracy\")"
   ]
  },
  {
   "cell_type": "code",
   "execution_count": null,
   "metadata": {
    "scrolled": false
   },
   "outputs": [],
   "source": [
    "dataset = \"orchset\"\n",
    "track = \"Rimski-Korsakov-Scheherazade-Kalender-ex1\"\n",
    "\n",
    "est = \"{}/{}-test-melody-outputs/{}.csv\".format(results_path, dataset, track)\n",
    "refs = evaluation.get_dataset_list()[dataset][1]\n",
    "ref_track = next(x for x in refs if x.uid == track)\n",
    "ref = ref_track.annot_path\n",
    "evaluation.evaluate_dataset_melody([ref], [est], per_track_info=True)\n",
    "\n",
    "vis.audioplayer(ref_track.audio_path)"
   ]
  },
  {
   "cell_type": "code",
   "execution_count": null,
   "metadata": {},
   "outputs": [],
   "source": [
    "ref_time, ref_freq = mir_eval.io.load_time_series(ref)\n",
    "fs = 16000\n",
    "x = mir_eval.sonify.pitch_contour(ref_time, ref_freq, fs)\n",
    "vis.samplesplayer(x, fs)"
   ]
  },
  {
   "cell_type": "code",
   "execution_count": null,
   "metadata": {},
   "outputs": [],
   "source": [
    "est_time, est_freq = mir_eval.io.load_time_series(est, delimiter=\",\")\n",
    "fs = 16000\n",
    "x = mir_eval.sonify.pitch_contour(est_time, est_freq, fs)\n",
    "vis.samplesplayer(x, fs)"
   ]
  }
 ],
 "metadata": {
  "kernelspec": {
   "display_name": "Python 3",
   "language": "python",
   "name": "python3"
  },
  "language_info": {
   "codemirror_mode": {
    "name": "ipython",
    "version": 3
   },
   "file_extension": ".py",
   "mimetype": "text/x-python",
   "name": "python",
   "nbconvert_exporter": "python",
   "pygments_lexer": "ipython3",
   "version": "3.7.2"
  }
 },
 "nbformat": 4,
 "nbformat_minor": 2
}
