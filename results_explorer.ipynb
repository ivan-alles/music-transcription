{
 "cells": [
  {
   "cell_type": "code",
   "execution_count": null,
   "metadata": {},
   "outputs": [],
   "source": [
    "%load_ext autoreload\n",
    "%autoreload 2\n",
    "\n",
    "import evaluation\n",
    "import pandas\n",
    "import os\n",
    "import visualization as vis\n",
    "import mir_eval\n",
    "from glob import glob\n",
    "\n",
    "%matplotlib notebook"
   ]
  },
  {
   "cell_type": "code",
   "execution_count": null,
   "metadata": {
    "scrolled": false
   },
   "outputs": [],
   "source": [
    "# moje metody\n",
    "#results_path = \"models/0226_142040-crepe-dmdb-bs32-apw1-fw93-cw978-s16000-inTrue-lr0.0002-cm8-cg0.0-llw0.0-mc5-bps5-asTrue/model-best-mdb-f0-outputs/\"\n",
    "# results_path = \"models/0305_105410-wavenet-dmdb,wjazzd-bs4-apw44-hsNone-fw93-cw2-s16000-inTrue-lr0.001-cg0.0-llw0.0-bps5-as0.25-mw1.0-ifw32-fw2-ubTrue-sc64-rc16-sn2-md1024-dld0.0-sld0.0/model-f0-outputs\"\n",
    "# evaluation.summary(\"test\", results_path, \".csv\")\n",
    "# results = evaluation.results(\"test\", results_path, \".csv\")\n",
    "\n",
    "# deep salience\n",
    "results_path = \"/home/jirka/bakalarka/algoritmy/ismir2017-deepsalience-f0-outputs\"\n",
    "method = \"deepsalience\"\n",
    "evaluation.summary(method, results_path, \"_melody2_singlef0.csv\")\n",
    "results = evaluation.results(method, results_path, \"_melody2_singlef0.csv\")"
   ]
  },
  {
   "cell_type": "code",
   "execution_count": null,
   "metadata": {
    "scrolled": false
   },
   "outputs": [],
   "source": [
    "results[\"RPA RCA diff\"] = results[\"Raw Chroma Accuracy\"] - results[\"Raw Pitch Accuracy\"]\n",
    "results.sort_values(\"Raw Chroma Accuracy\")\n",
    "with pandas.option_context('display.max_rows', None, 'display.max_columns', None):\n",
    "    display(results)"
   ]
  },
  {
   "cell_type": "code",
   "execution_count": null,
   "metadata": {
    "scrolled": false
   },
   "outputs": [],
   "source": [
    "dataset = \"mdb\"\n",
    "track = \"MatthewEntwistle_FairerHopes\"\n",
    "\n",
    "est = glob(\"{}/{}-{}-melody-outputs/{}*\".format(results_path, dataset, method, track))[0]\n",
    "refs = [track for prefix,_,_,dataset_iter in evaluation.get_dataset_list() if prefix == dataset for track in dataset_iter]\n",
    "ref_track = next(x for x in refs if x.uid in track or track in x.uid)\n",
    "ref = ref_track.annot_path\n",
    "print(os.path.isfile(est))\n",
    "evaluation.evaluate_dataset_melody([ref], [est], per_track_info=True)\n",
    "\n"
   ]
  },
  {
   "cell_type": "code",
   "execution_count": null,
   "metadata": {
    "scrolled": true
   },
   "outputs": [],
   "source": [
    "vis.audioplayer(ref_track.audio_path)"
   ]
  },
  {
   "cell_type": "code",
   "execution_count": null,
   "metadata": {},
   "outputs": [],
   "source": [
    "ref_time, ref_freq = mir_eval.io.load_time_series(ref)\n",
    "fs = 16000\n",
    "x = mir_eval.sonify.pitch_contour(ref_time, ref_freq, fs)\n",
    "vis.samplesplayer(x, fs)"
   ]
  },
  {
   "cell_type": "code",
   "execution_count": null,
   "metadata": {},
   "outputs": [],
   "source": [
    "est_time, est_freq = mir_eval.io.load_time_series(est, delimiter=\",\")\n",
    "fs = 16000\n",
    "x = mir_eval.sonify.pitch_contour(est_time, est_freq, fs)\n",
    "vis.samplesplayer(x, fs)"
   ]
  }
 ],
 "metadata": {
  "kernelspec": {
   "display_name": "Python 3",
   "language": "python",
   "name": "python3"
  },
  "language_info": {
   "codemirror_mode": {
    "name": "ipython",
    "version": 3
   },
   "file_extension": ".py",
   "mimetype": "text/x-python",
   "name": "python",
   "nbconvert_exporter": "python",
   "pygments_lexer": "ipython3",
   "version": "3.7.2"
  }
 },
 "nbformat": 4,
 "nbformat_minor": 2
}
